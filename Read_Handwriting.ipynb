{
  "nbformat": 4,
  "nbformat_minor": 0,
  "metadata": {
    "colab": {
      "name": "Read_Handwriting.ipynb",
      "provenance": []
    },
    "kernelspec": {
      "name": "python3",
      "display_name": "Python 3"
    },
    "language_info": {
      "name": "python"
    }
  },
  "cells": [
    {
      "cell_type": "markdown",
      "metadata": {
        "id": "p8ursi1QP7xN"
      },
      "source": [
        "### **LGM VIP Task: Develop A Neural Network That Can Read Handwriting**"
      ]
    },
    {
      "cell_type": "markdown",
      "metadata": {
        "id": "3_KWieAwlXeV"
      },
      "source": [
        "**Executed by: Kriti Yadav | ykriti288@gmail.com**"
      ]
    },
    {
      "cell_type": "markdown",
      "metadata": {
        "id": "wM6Dvzm8lhEq"
      },
      "source": [
        "### **Importing the necessary libraries**"
      ]
    },
    {
      "cell_type": "code",
      "metadata": {
        "id": "edf0_nbAYx9D"
      },
      "source": [
        "import tensorflow as tf\n",
        "from numpy import unique, argmax\n",
        "from matplotlib import pyplot\n",
        "import matplotlib.pyplot as plt\n",
        "import numpy as np\n"
      ],
      "execution_count": 1,
      "outputs": []
    },
    {
      "cell_type": "markdown",
      "metadata": {
        "id": "Vvb4Y35_P6a7"
      },
      "source": [
        "### **Load Dataset**"
      ]
    },
    {
      "cell_type": "code",
      "metadata": {
        "id": "oiJpk4B7Z7jq",
        "colab": {
          "base_uri": "https://localhost:8080/"
        },
        "outputId": "18817c1a-095a-4f89-ba80-c70afebeb995"
      },
      "source": [
        "mnist = tf.keras.datasets.mnist\n",
        "\n",
        "(x_train, y_train), (x_test, y_test) = mnist.load_data()\n"
      ],
      "execution_count": 2,
      "outputs": [
        {
          "output_type": "stream",
          "text": [
            "Downloading data from https://storage.googleapis.com/tensorflow/tf-keras-datasets/mnist.npz\n",
            "11493376/11490434 [==============================] - 0s 0us/step\n",
            "11501568/11490434 [==============================] - 0s 0us/step\n"
          ],
          "name": "stdout"
        }
      ]
    },
    {
      "cell_type": "markdown",
      "metadata": {
        "id": "HtkZaleJl01A"
      },
      "source": [
        "### **Reshaping the trainning and testing dataset**"
      ]
    },
    {
      "cell_type": "code",
      "metadata": {
        "id": "7HRwwNUHLGst"
      },
      "source": [
        "x_train =x_train.reshape((x_train.shape[0] ,x_train.shape[1], x_train.shape[2],1))\n",
        "x_test =x_test.reshape((x_test.shape[0] ,x_test.shape[1], x_test.shape[2],1))"
      ],
      "execution_count": 3,
      "outputs": []
    },
    {
      "cell_type": "markdown",
      "metadata": {
        "id": "0SwoiPHbl7rz"
      },
      "source": [
        "### **Normalize the value of pixels in images**"
      ]
    },
    {
      "cell_type": "code",
      "metadata": {
        "id": "C7L_XCUHLcxS"
      },
      "source": [
        "x_train=x_train.astype('float32')/255.0\n",
        "x_test=x_test.astype('float32')/255.0"
      ],
      "execution_count": 4,
      "outputs": []
    },
    {
      "cell_type": "code",
      "metadata": {
        "colab": {
          "base_uri": "https://localhost:8080/",
          "height": 163
        },
        "id": "N95lPFQ8LwF7",
        "outputId": "76db7320-4fcf-49bb-8429-3c37af7964f7"
      },
      "source": [
        "fig=plt.figure(figsize=(5,3))\n",
        "for i in range(20):\n",
        "  ax =fig.add_subplot(2,10,i+1 ,xticks=[] ,yticks=[])\n",
        "  ax.imshow(np.squeeze(x_train[i]), cmap='gray')\n",
        "  ax.set_title(y_train[i])"
      ],
      "execution_count": 5,
      "outputs": [
        {
          "output_type": "display_data",
          "data": {
            "image/png": "[encoded data removed]",
            "text/plain": [
              "<Figure size 360x216 with 20 Axes>"
            ]
          },
          "metadata": {}
        }
      ]
    },
    {
      "cell_type": "markdown",
      "metadata": {
        "id": "IZcbogQUmATr"
      },
      "source": [
        "### **Determine the shape of input image**"
      ]
    },
    {
      "cell_type": "code",
      "metadata": {
        "colab": {
          "base_uri": "https://localhost:8080/"
        },
        "id": "aGnpswbNMMMa",
        "outputId": "93782cf2-b73b-49f7-e166-754c3e4bd0b7"
      },
      "source": [
        "\n",
        "img_shape= x_train.shape[1:]\n",
        "img_shape"
      ],
      "execution_count": 6,
      "outputs": [
        {
          "output_type": "execute_result",
          "data": {
            "text/plain": [
              "(28, 28, 1)"
            ]
          },
          "metadata": {},
          "execution_count": 6
        }
      ]
    },
    {
      "cell_type": "markdown",
      "metadata": {
        "id": "NfSdHFzimEN2"
      },
      "source": [
        "### **Defining the model**"
      ]
    },
    {
      "cell_type": "code",
      "metadata": {
        "id": "WFOAfwOzNHUc"
      },
      "source": [
        "import tensorflow as tf\n",
        "\n",
        "\n",
        "model = tf.keras.models.Sequential([\n",
        "\n",
        "  tf.keras.layers.Flatten(input_shape=(28, 28)),\n",
        "\n",
        "  tf.keras.layers.Dense(128, activation='relu'),\n",
        "\n",
        "  tf.keras.layers.Dropout(0.2),\n",
        "\n",
        "  tf.keras.layers.Dense(10)\n",
        "\n",
        "])"
      ],
      "execution_count": 7,
      "outputs": []
    },
    {
      "cell_type": "code",
      "metadata": {
        "colab": {
          "base_uri": "https://localhost:8080/"
        },
        "id": "IAWzdkABNKeS",
        "outputId": "10a351ff-f9bb-4206-c96b-9881a6a659e6"
      },
      "source": [
        "model.summary()"
      ],
      "execution_count": 8,
      "outputs": [
        {
          "output_type": "stream",
          "text": [
            "Model: \"sequential\"\n",
            "_________________________________________________________________\n",
            "Layer (type)                 Output Shape              Param #   \n",
            "=================================================================\n",
            "flatten (Flatten)            (None, 784)               0         \n",
            "_________________________________________________________________\n",
            "dense (Dense)                (None, 128)               100480    \n",
            "_________________________________________________________________\n",
            "dropout (Dropout)            (None, 128)               0         \n",
            "_________________________________________________________________\n",
            "dense_1 (Dense)              (None, 10)                1290      \n",
            "=================================================================\n",
            "Total params: 101,770\n",
            "Trainable params: 101,770\n",
            "Non-trainable params: 0\n",
            "_________________________________________________________________\n"
          ],
          "name": "stdout"
        }
      ]
    },
    {
      "cell_type": "code",
      "metadata": {
        "colab": {
          "base_uri": "https://localhost:8080/",
          "height": 533
        },
        "id": "BtFY8AZsNNic",
        "outputId": "47c516fd-6b41-45d6-a963-65b21f20e8e8"
      },
      "source": [
        "from tensorflow.keras.utils import plot_model\n",
        "\n",
        "plot_model(model, 'model.jpg', show_shapes=True)"
      ],
      "execution_count": 9,
      "outputs": [
        {
          "output_type": "execute_result",
          "data": {
            "image/jpeg": "[encoded data removed]",
            "text/plain": [
              "<IPython.core.display.Image object>"
            ]
          },
          "metadata": {},
          "execution_count": 9
        }
      ]
    },
    {
      "cell_type": "code",
      "metadata": {
        "colab": {
          "base_uri": "https://localhost:8080/"
        },
        "id": "h-n8qOONNQYq",
        "outputId": "a645d4b6-6174-43ed-e34f-5d6c910dbc24"
      },
      "source": [
        "predictions = model(x_train[:1]).numpy()\n",
        "\n",
        "predictions"
      ],
      "execution_count": 10,
      "outputs": [
        {
          "output_type": "execute_result",
          "data": {
            "text/plain": [
              "array([[-3.5757399e-01, -7.0344657e-05,  7.3399894e-02, -2.7220210e-01,\n",
              "         1.1243354e-01, -2.3004319e-01, -1.0353078e-01, -8.7883718e-02,\n",
              "         1.9695957e-01, -2.4611716e-01]], dtype=float32)"
            ]
          },
          "metadata": {},
          "execution_count": 10
        }
      ]
    },
    {
      "cell_type": "code",
      "metadata": {
        "colab": {
          "base_uri": "https://localhost:8080/"
        },
        "id": "HaWd-J7oNd0L",
        "outputId": "8881d596-fe19-41b6-a08f-b1da1a1ee3bb"
      },
      "source": [
        "\n",
        "tf.nn.softmax(predictions).numpy()"
      ],
      "execution_count": 11,
      "outputs": [
        {
          "output_type": "execute_result",
          "data": {
            "text/plain": [
              "array([[0.07546327, 0.10789404, 0.11611951, 0.0821887 , 0.1207417 ,\n",
              "        0.08572777, 0.09728932, 0.09882358, 0.13139126, 0.0843608 ]],\n",
              "      dtype=float32)"
            ]
          },
          "metadata": {},
          "execution_count": 11
        }
      ]
    },
    {
      "cell_type": "markdown",
      "metadata": {
        "id": "N9_j1TykmKks"
      },
      "source": [
        "### **Compling The Model**"
      ]
    },
    {
      "cell_type": "code",
      "metadata": {
        "id": "jOBRXpzxNgW8"
      },
      "source": [
        "loss_fn = tf.keras.losses.SparseCategoricalCrossentropy(from_logits=True)\n",
        "loss_fn(y_train[:1], predictions).numpy()\n",
        "model.compile(optimizer='adam',loss=loss_fn, metrics=['accuracy'])"
      ],
      "execution_count": 12,
      "outputs": []
    },
    {
      "cell_type": "markdown",
      "metadata": {
        "id": "2_GeaTK8mNwU"
      },
      "source": [
        "### **Train the model**"
      ]
    },
    {
      "cell_type": "code",
      "metadata": {
        "colab": {
          "base_uri": "https://localhost:8080/"
        },
        "id": "5CzJaBtsNikF",
        "outputId": "14ab0caa-e228-4fd6-e8de-4c6993ac16d4"
      },
      "source": [
        "\n",
        "model.fit(x_train, y_train, epochs=5)"
      ],
      "execution_count": 13,
      "outputs": [
        {
          "output_type": "stream",
          "text": [
            "Epoch 1/5\n",
            "1875/1875 [==============================] - 7s 3ms/step - loss: 0.2944 - accuracy: 0.9138\n",
            "Epoch 2/5\n",
            "1875/1875 [==============================] - 6s 3ms/step - loss: 0.1405 - accuracy: 0.9588\n",
            "Epoch 3/5\n",
            "1875/1875 [==============================] - 6s 3ms/step - loss: 0.1062 - accuracy: 0.9677\n",
            "Epoch 4/5\n",
            "1875/1875 [==============================] - 6s 3ms/step - loss: 0.0868 - accuracy: 0.9735\n",
            "Epoch 5/5\n",
            "1875/1875 [==============================] - 6s 3ms/step - loss: 0.0760 - accuracy: 0.9764\n"
          ],
          "name": "stdout"
        },
        {
          "output_type": "execute_result",
          "data": {
            "text/plain": [
              "<keras.callbacks.History at 0x7f5fe862cad0>"
            ]
          },
          "metadata": {},
          "execution_count": 13
        }
      ]
    },
    {
      "cell_type": "markdown",
      "metadata": {
        "id": "f3Bs0hVumR9M"
      },
      "source": [
        "### **Model Evaluation**"
      ]
    },
    {
      "cell_type": "code",
      "metadata": {
        "colab": {
          "base_uri": "https://localhost:8080/"
        },
        "id": "HygBIH3COb2j",
        "outputId": "c0812080-6757-4816-ce62-3914920025f6"
      },
      "source": [
        "model.evaluate(x_test,  y_test, verbose=5)"
      ],
      "execution_count": 14,
      "outputs": [
        {
          "output_type": "execute_result",
          "data": {
            "text/plain": [
              "[0.07474728673696518, 0.9772999882698059]"
            ]
          },
          "metadata": {},
          "execution_count": 14
        }
      ]
    },
    {
      "cell_type": "markdown",
      "metadata": {
        "id": "TPOe40KJmVY1"
      },
      "source": [
        "### **Probablity of the model**"
      ]
    },
    {
      "cell_type": "code",
      "metadata": {
        "colab": {
          "base_uri": "https://localhost:8080/"
        },
        "id": "AoPpaANrOe9M",
        "outputId": "7d81464a-5ee6-4f54-d23d-9f9061ff7c0e"
      },
      "source": [
        "probability_model = tf.keras.Sequential([ model, tf.keras.layers.Softmax() ])\n",
        "probability_model(x_test[:5])"
      ],
      "execution_count": 15,
      "outputs": [
        {
          "output_type": "execute_result",
          "data": {
            "text/plain": [
              "<tf.Tensor: shape=(5, 10), dtype=float32, numpy=\n",
              "array([[2.5572330e-08, 2.9824702e-11, 2.1591109e-06, 2.4979081e-05,\n",
              "        4.5095867e-12, 2.2818227e-09, 2.1418389e-15, 9.9997270e-01,\n",
              "        6.8810455e-09, 1.5721375e-07],\n",
              "       [3.2685252e-09, 2.5890489e-05, 9.9997151e-01, 1.0733203e-06,\n",
              "        1.3899417e-19, 3.6172793e-07, 3.7872407e-09, 4.0080711e-14,\n",
              "        1.1432431e-06, 4.2080441e-16],\n",
              "       [1.2046000e-06, 9.9643683e-01, 2.2963103e-04, 3.7210939e-05,\n",
              "        1.3667864e-05, 2.0871854e-05, 2.3356070e-05, 2.9685632e-03,\n",
              "        2.6827186e-04, 4.4058044e-07],\n",
              "       [9.9995208e-01, 5.1880750e-10, 3.8257956e-05, 4.8308840e-07,\n",
              "        7.8559950e-08, 3.1339553e-07, 2.4683238e-06, 4.0809459e-06,\n",
              "        1.8560334e-07, 2.0041950e-06],\n",
              "       [7.7583918e-06, 9.4866666e-09, 1.2274313e-05, 1.1449747e-07,\n",
              "        9.9794084e-01, 2.7081137e-08, 4.9238788e-06, 4.7817968e-05,\n",
              "        2.3972684e-06, 1.9838784e-03]], dtype=float32)>"
            ]
          },
          "metadata": {},
          "execution_count": 15
        }
      ]
    },
    {
      "cell_type": "markdown",
      "metadata": {
        "id": "Mrub-P96mZf9"
      },
      "source": [
        "### **Testing the model**"
      ]
    },
    {
      "cell_type": "code",
      "metadata": {
        "colab": {
          "base_uri": "https://localhost:8080/",
          "height": 265
        },
        "id": "9Q6ZiqTMOiH7",
        "outputId": "0ca47b49-617d-4a08-b7aa-78b64467fbc3"
      },
      "source": [
        "\n",
        "img = x_train[4]\n",
        "plt.imshow(np.squeeze(img) ,cmap='gray')\n",
        "plt.show()"
      ],
      "execution_count": 16,
      "outputs": [
        {
          "output_type": "display_data",
          "data": {
            "image/png": "[encoded data removed]",
            "text/plain": [
              "<Figure size 432x288 with 1 Axes>"
            ]
          },
          "metadata": {
            "needs_background": "light"
          }
        }
      ]
    },
    {
      "cell_type": "code",
      "metadata": {
        "colab": {
          "base_uri": "https://localhost:8080/"
        },
        "id": "GUP7lJNUOlE0",
        "outputId": "d2a0b74c-f60e-4c03-d90d-b4a9f555aaa1"
      },
      "source": [
        "img= img.reshape(1, img.shape[0],img.shape[1],img.shape[2])\n",
        "p= model.predict([img])\n",
        "print(\"predicted : {}\".format(argmax(p)))"
      ],
      "execution_count": 17,
      "outputs": [
        {
          "output_type": "stream",
          "text": [
            "predicted : 9\n"
          ],
          "name": "stdout"
        }
      ]
    },
    {
      "cell_type": "code",
      "metadata": {
        "colab": {
          "base_uri": "https://localhost:8080/",
          "height": 265
        },
        "id": "Vn7b-R8CP7UD",
        "outputId": "2a6cad50-97f5-44a8-d278-6dbbc2880a8d"
      },
      "source": [
        "img = x_train[5]\n",
        "plt.imshow(np.squeeze(img) ,cmap='gray')\n",
        "plt.show()"
      ],
      "execution_count": 18,
      "outputs": [
        {
          "output_type": "display_data",
          "data": {
            "image/png": "[encoded data removed]",
            "text/plain": [
              "<Figure size 432x288 with 1 Axes>"
            ]
          },
          "metadata": {
            "needs_background": "light"
          }
        }
      ]
    },
    {
      "cell_type": "code",
      "metadata": {
        "colab": {
          "base_uri": "https://localhost:8080/"
        },
        "id": "E4UJ9IyoQDZV",
        "outputId": "95b89757-eaa1-4a9e-b295-d71d0f9d4c42"
      },
      "source": [
        "img= img.reshape(1, img.shape[0],img.shape[1],img.shape[2])\n",
        "p= model.predict([img])\n",
        "print(\"predicted : {}\".format(argmax(p)))"
      ],
      "execution_count": 19,
      "outputs": [
        {
          "output_type": "stream",
          "text": [
            "predicted : 2\n"
          ],
          "name": "stdout"
        }
      ]
    },
    {
      "cell_type": "code",
      "metadata": {
        "colab": {
          "base_uri": "https://localhost:8080/",
          "height": 265
        },
        "id": "c7Yx_7thP-ez",
        "outputId": "59e8f96e-58eb-42d8-a41c-d94dc7e9f3ab"
      },
      "source": [
        "img = x_train[10]\n",
        "plt.imshow(np.squeeze(img) ,cmap='gray')\n",
        "plt.show()"
      ],
      "execution_count": 20,
      "outputs": [
        {
          "output_type": "display_data",
          "data": {
            "image/png": "[encoded data removed]",
            "text/plain": [
              "<Figure size 432x288 with 1 Axes>"
            ]
          },
          "metadata": {
            "needs_background": "light"
          }
        }
      ]
    },
    {
      "cell_type": "code",
      "metadata": {
        "colab": {
          "base_uri": "https://localhost:8080/"
        },
        "id": "3LPB4gHdQGuL",
        "outputId": "cbd0f050-c53e-4dc9-d1b5-f9e70e60143f"
      },
      "source": [
        "img= img.reshape(1, img.shape[0],img.shape[1],img.shape[2])\n",
        "p= model.predict([img])\n",
        "print(\"predicted : {}\".format(argmax(p)))"
      ],
      "execution_count": 21,
      "outputs": [
        {
          "output_type": "stream",
          "text": [
            "predicted : 3\n"
          ],
          "name": "stdout"
        }
      ]
    }
  ]
}